{
 "cells": [
  {
   "cell_type": "markdown",
   "id": "145b1055",
   "metadata": {},
   "source": [
    "# Digital Eye Strain (DES) – Statistical Analysis Notebook\n",
    "This notebook reproduces all statistical analyses performed for the MSc thesis comparing **digital eye strain** in patients **with** and **without** dry eye disease (DED)."
   ]
  },
  {
   "cell_type": "markdown",
   "id": "bfa20b67",
   "metadata": {},
   "source": [
    "## 1. Imports"
   ]
  },
  {
   "cell_type": "code",
   "execution_count": null,
   "id": "8343cb72",
   "metadata": {},
   "outputs": [],
   "source": [
    "import pandas as pd\n",
    "import numpy as np\n",
    "import matplotlib.pyplot as plt\n",
    "import seaborn as sns\n",
    "from scipy.stats import ttest_ind, f_oneway, spearmanr, shapiro\n",
    "import statsmodels.formula.api as smf\n",
    "from statsmodels.stats.diagnostic import het_breuschpagan"
   ]
  },
  {
   "cell_type": "markdown",
   "id": "63815203",
   "metadata": {},
   "source": [
    "## 2. Load Data"
   ]
  },
  {
   "cell_type": "code",
   "execution_count": null,
   "id": "2f27241d",
   "metadata": {},
   "outputs": [],
   "source": [
    "# Adjust path if needed\n",
    "file_path = '/mnt/data/Final_Adjusted_DES_Scores.xlsx'\n",
    "df = pd.read_excel(file_path)\n",
    "\n",
    "# Basic preprocessing\n",
    "df['Age'] = 2025 - df['Year of Birth']\n",
    "df['DED'] = df['DED (Yes/No)']\n",
    "df['Weekday_Use'] = df['Internet Use (Weekdays - hrs/day)']\n",
    "if 'Contact Lenses OD' in df.columns:\n",
    "    df['Contact_Lens_Use'] = df['Contact Lenses OD']\n",
    "else:\n",
    "    df['Contact_Lens_Use'] = np.nan\n",
    "df.head()"
   ]
  },
  {
   "cell_type": "markdown",
   "id": "f7eea342",
   "metadata": {},
   "source": [
    "## 3. Descriptive Statistics"
   ]
  },
  {
   "cell_type": "code",
   "execution_count": null,
   "id": "5d5d16cf",
   "metadata": {},
   "outputs": [],
   "source": [
    "df[['Age', 'Weekday_Use', 'Internet Use (Weekends - hrs/day)', 'DES_Score']].describe()"
   ]
  },
  {
   "cell_type": "markdown",
   "id": "e392d2c0",
   "metadata": {},
   "source": [
    "## 4. Group Comparisons"
   ]
  },
  {
   "cell_type": "code",
   "execution_count": null,
   "id": "c6f0c31c",
   "metadata": {},
   "outputs": [],
   "source": [
    "# DED vs non‑DED\n",
    "ded_scores = df.groupby('DED')['DES_Score']\n",
    "print('DED vs non‑DED:', ttest_ind(ded_scores.get_group(0), ded_scores.get_group(1)))\n",
    "\n",
    "# Sex\n",
    "gender_scores = df.groupby('Gender')['DES_Score']\n",
    "print('Male vs Female:', ttest_ind(gender_scores.get_group('Male'), gender_scores.get_group('Female')))\n",
    "\n",
    "# Contact lenses (if both groups exist)\n",
    "if df['Contact_Lens_Use'].notna().any() and set(df['Contact_Lens_Use'].unique()) >= {0,1}:\n",
    "    cl_scores = df.groupby('Contact_Lens_Use')['DES_Score']\n",
    "    print('Contacts vs No Contacts:', ttest_ind(cl_scores.get_group(0), cl_scores.get_group(1)))"
   ]
  },
  {
   "cell_type": "markdown",
   "id": "98124d95",
   "metadata": {},
   "source": [
    "## 5. Spearman Correlations"
   ]
  },
  {
   "cell_type": "code",
   "execution_count": null,
   "id": "79a64552",
   "metadata": {},
   "outputs": [],
   "source": [
    "for ded_label, group in df.groupby('DED'):\n",
    "    print(f'\\nDED={ded_label}')\n",
    "    print(' Weekday:', spearmanr(group['DES_Score'], group['Internet Use (Weekdays - hrs/day)']))\n",
    "    print(' Weekend :', spearmanr(group['DES_Score'], group['Internet Use (Weekends - hrs/day)']))"
   ]
  },
  {
   "cell_type": "markdown",
   "id": "43b5c4be",
   "metadata": {},
   "source": [
    "## 6. ANOVA Tests"
   ]
  },
  {
   "cell_type": "code",
   "execution_count": null,
   "id": "54a1a71c",
   "metadata": {},
   "outputs": [],
   "source": [
    "symptom_cols = ['Shoulder/Neck Pain', 'Burning Sensation', 'Red Eyes',\n",
    "               'Foreign Body Sensation', 'Prickling Sensation', 'Photophobia',\n",
    "               'Watery Eyes', 'Diplopia', 'Halo']\n",
    "anova_data = [df[df[c]==1]['DES_Score'] for c in symptom_cols]\n",
    "print('Symptoms ANOVA:', f_oneway(*anova_data))\n",
    "\n",
    "# Age group & usage bins\n",
    "df['Age_Group'] = pd.cut(df['Age'], bins=[18,29,39,49,100], labels=['18‑29','30‑39','40‑49','50+'])\n",
    "df['Usage_Bin'] = pd.cut(df['Weekday_Use'], bins=[0,4,6,24], labels=['Low','Moderate','High'])\n",
    "print('Age group ANOVA:', f_oneway(*[g['DES_Score'] for _, g in df.groupby('Age_Group')]))\n",
    "print('Usage ANOVA   :', f_oneway(*[g['DES_Score'] for _, g in df.groupby('Usage_Bin')]))"
   ]
  },
  {
   "cell_type": "markdown",
   "id": "73203808",
   "metadata": {},
   "source": [
    "## 7. Multiple Linear Regression"
   ]
  },
  {
   "cell_type": "code",
   "execution_count": null,
   "id": "a08810b5",
   "metadata": {},
   "outputs": [],
   "source": [
    "model = smf.ols('DES_Score ~ Age + Weekday_Use + DED', data=df).fit()\n",
    "print(model.summary())\n",
    "\n",
    "# Assumption checks\n",
    "resid = model.resid\n",
    "print('Shapiro p:', shapiro(resid).pvalue)\n",
    "print('Breusch‑Pagan p:', het_breuschpagan(resid, model.model.exog)[1])"
   ]
  },
  {
   "cell_type": "markdown",
   "id": "341a113e",
   "metadata": {},
   "source": [
    "## 8. Stratified Regression"
   ]
  },
  {
   "cell_type": "code",
   "execution_count": null,
   "id": "071241dc",
   "metadata": {},
   "outputs": [],
   "source": [
    "for val, sub in df.groupby('DED'):\n",
    "    print(f'\\nDED={val}')\n",
    "    print(smf.ols('DES_Score ~ Age + Weekday_Use', data=sub).fit().summary())"
   ]
  },
  {
   "cell_type": "markdown",
   "id": "e815f9c0",
   "metadata": {},
   "source": [
    "## 9. Visualisations"
   ]
  },
  {
   "cell_type": "code",
   "execution_count": null,
   "id": "f776389b",
   "metadata": {},
   "outputs": [],
   "source": [
    "# Scatterplot Age vs DES, colored by screen use\n",
    "plt.figure(figsize=(8,6))\n",
    "sns.scatterplot(data=df, x='Age', y='DES_Score', hue='Weekday_Use', size='Weekday_Use', sizes=(40,200), palette='cool')\n",
    "plt.title('Age vs DES Score – Colored by Screen Use (Weekdays)')\n",
    "plt.legend(title='Screen Use (hrs)', bbox_to_anchor=(1.05,1))\n",
    "plt.show()"
   ]
  }
 ],
 "metadata": {},
 "nbformat": 4,
 "nbformat_minor": 5
}
